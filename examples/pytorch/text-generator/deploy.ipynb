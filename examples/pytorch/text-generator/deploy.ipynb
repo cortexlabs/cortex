{
 "cells": [
  {
   "cell_type": "markdown",
   "metadata": {},
   "source": [
    "_WARNING: you are on the master branch; please refer to examples on the branch corresponding to your `cortex version` (e.g. for version 0.23.*, run `git checkout -b 0.23` or switch to the `0.23` branch on GitHub)_\n",
    "\n",
    "This example needs to run on a machine that supports Docker to deploy Cortex APIs locally (Colab users can still deploy to remote Cortex clusters)",
    "\n"
   ]
  },
  {
   "cell_type": "code",
   "execution_count": null,
   "metadata": {},
   "outputs": [],
   "source": [
    "!pip3 install cortex\n",
    "!pip3 install requests"
   ]
  },
  {
   "cell_type": "code",
   "execution_count": null,
   "metadata": {},
   "outputs": [],
   "source": [
    "import cortex\n",
    "\n",
    "cx = cortex.client(\"local\")\n",
    "\n",
    "api_spec = {\n",
    "  \"name\": \"text-generator\",\n",
    "  \"kind\": \"RealtimeAPI\",\n",
    "  \"predictor\": {\n",
    "    \"type\": \"python\",\n",
    "    \"path\": \"predictor.py\"\n",
    "  }\n",
    "}\n",
    "\n",
    "cx.create_api(api_spec, project_dir=\".\", wait=True)"
   ]
  },
  {
   "cell_type": "code",
   "execution_count": null,
   "metadata": {},
   "outputs": [],
   "source": [
    "import requests\n",
    "\n",
    "endpoint = cx.get_api(\"text-generator\")[\"endpoint\"]\n",
    "payload = {\"text\": \"hello world\"}\n",
    "print(requests.post(endpoint, payload).text)"
   ]
  }
 ],
 "metadata": {
  "kernelspec": {
   "display_name": "Python 3",
   "language": "python",
   "name": "python3"
  },
  "language_info": {
   "codemirror_mode": {
    "name": "ipython",
    "version": 3
   },
   "file_extension": ".py",
   "mimetype": "text/x-python",
   "name": "python",
   "nbconvert_exporter": "python",
   "pygments_lexer": "ipython3",
   "version": "3.7.9"
  }
 },
 "nbformat": 4,
 "nbformat_minor": 4
}
