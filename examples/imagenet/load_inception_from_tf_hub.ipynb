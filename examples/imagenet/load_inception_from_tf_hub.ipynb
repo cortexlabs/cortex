{
  "nbformat": 4,
  "nbformat_minor": 0,
  "metadata": {
    "colab": {
      "name": "Untitled1.ipynb",
      "version": "0.3.2",
      "provenance": []
    },
    "kernelspec": {
      "name": "python3",
      "display_name": "Python 3"
    }
  },
  "cells": [
    {
      "cell_type": "code",
      "metadata": {
        "id": "5GeUQ9GEuvx_",
        "colab_type": "code",
        "outputId": "48619f6a-578b-45cf-9693-8f66190f1cd5",
        "colab": {
          "base_uri": "https://localhost:8080/",
          "height": 72
        }
      },
      "source": [
        "import tensorflow as tf\n",
        "import tensorflow_hub as hub\n",
        "from tensorflow.saved_model import simple_save\n",
        "from tensorflow.python.saved_model.signature_def_utils_impl import predict_signature_def\n",
        "\n",
        "export_dir = \"/model/156923432\"\n",
        "builder = tf.saved_model.builder.SavedModelBuilder(export_dir)\n",
        "with tf.Session(graph=tf.Graph()) as sess:\n",
        "    module = hub.Module(\"https://tfhub.dev/google/imagenet/inception_v3/classification/3\") \n",
        "    input_params = module.get_input_info_dict()\n",
        "    \n",
        "    image_input = tf.placeholder(name='images', dtype=input_params['images'].dtype, \n",
        "        shape=input_params['images'].get_shape())\n",
        "    sess.run([tf.global_variables_initializer(), tf.tables_initializer()])\n",
        "    classes = module(image_input)\n",
        "    \n",
        "    \n",
        "    signature = predict_signature_def(inputs={'images': image_input},\n",
        "        outputs={'classes': classes})\n",
        "\n",
        "    builder.add_meta_graph_and_variables(sess,\n",
        "                                       [\"serve\"],\n",
        "                                       signature_def_map={\"predict\": signature},\n",
        "                                       strip_default_attrs=True)\n",
        "\n",
        "builder.save()"
      ],
      "execution_count": 0,
      "outputs": [
        {
          "output_type": "stream",
          "text": [
            "['image_classification_with_bn_hparams', 'image_feature_vector_with_bn_hparams', 'default', 'image_classification', 'image_feature_vector']\n"
          ],
          "name": "stdout"
        },
        {
          "output_type": "execute_result",
          "data": {
            "text/plain": [
              "b'/model/156923432/saved_model.pb'"
            ]
          },
          "metadata": {
            "tags": []
          },
          "execution_count": 3
        }
      ]
    }
  ]
}